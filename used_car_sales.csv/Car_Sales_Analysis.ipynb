{
  "nbformat": 4,
  "nbformat_minor": 0,
  "metadata": {
    "colab": {
      "private_outputs": true,
      "provenance": []
    },
    "kernelspec": {
      "name": "python3",
      "display_name": "Python 3"
    },
    "language_info": {
      "name": "python"
    }
  },
  "cells": [
    {
      "cell_type": "code",
      "execution_count": null,
      "metadata": {
        "id": "OzkQRyG06W60"
      },
      "outputs": [],
      "source": [
        "# importing libraries\n",
        "import pandas as pd\n",
        "import numpy as np\n",
        "import matplotlib.pyplot as plt\n",
        "import seaborn as sns\n",
        "%matplotlib inline"
      ]
    },
    {
      "cell_type": "code",
      "source": [
        "# Mounting google drive\n",
        "from google.colab import files\n",
        "uploaded = files.upload()"
      ],
      "metadata": {
        "id": "kVWKMEUG6q9_"
      },
      "execution_count": null,
      "outputs": []
    },
    {
      "cell_type": "code",
      "source": [
        "# Importing dataset\n",
        "dataset = pd.read_csv(\"used_car_sales.csv\")"
      ],
      "metadata": {
        "id": "CkHbo2iE7ECb"
      },
      "execution_count": null,
      "outputs": []
    },
    {
      "cell_type": "code",
      "source": [
        "dataset"
      ],
      "metadata": {
        "id": "rDQEQjQs8a1E"
      },
      "execution_count": null,
      "outputs": []
    },
    {
      "cell_type": "code",
      "source": [
        "# Description of the data\n",
        "dataset.describe()"
      ],
      "metadata": {
        "id": "5riwD1ee8jiT"
      },
      "execution_count": null,
      "outputs": []
    },
    {
      "cell_type": "code",
      "source": [
        "# Information of the data\n",
        "dataset.info"
      ],
      "metadata": {
        "id": "EnSH05AP9FNl"
      },
      "execution_count": null,
      "outputs": []
    },
    {
      "cell_type": "code",
      "source": [
        "# checking missing values\n",
        "dataset.isnull().sum()"
      ],
      "metadata": {
        "id": "ubUxrkOy9KUJ"
      },
      "execution_count": null,
      "outputs": []
    },
    {
      "cell_type": "code",
      "source": [
        "#Print Total number of Rows & columns in dataset\n",
        "dataset.shape"
      ],
      "metadata": {
        "id": "ZLfRcsDA9dHx"
      },
      "execution_count": null,
      "outputs": []
    },
    {
      "cell_type": "code",
      "source": [
        "# print Information Datatypes\n",
        "datatypes = dataset.dtypes\n",
        "print(datatypes)"
      ],
      "metadata": {
        "id": "9qSKLhaM9lec"
      },
      "execution_count": null,
      "outputs": []
    },
    {
      "cell_type": "code",
      "source": [
        "dataset.head()"
      ],
      "metadata": {
        "id": "Db8rhn02-B__"
      },
      "execution_count": null,
      "outputs": []
    },
    {
      "cell_type": "code",
      "source": [
        "dataset.tail()"
      ],
      "metadata": {
        "id": "I-pI-FCZ-Jna"
      },
      "execution_count": null,
      "outputs": []
    },
    {
      "cell_type": "code",
      "source": [
        "# drop null values\n",
        "dataset.dropna(inplace = True)"
      ],
      "metadata": {
        "id": "MsCb8B5n-Uex"
      },
      "execution_count": null,
      "outputs": []
    },
    {
      "cell_type": "code",
      "source": [
        "dataset.shape"
      ],
      "metadata": {
        "id": "t_Ha-1lj-1cf"
      },
      "execution_count": null,
      "outputs": []
    },
    {
      "cell_type": "code",
      "source": [
        "# find number of columns\n",
        "dataset.columns"
      ],
      "metadata": {
        "id": "LgG0QFuT-3qq"
      },
      "execution_count": null,
      "outputs": []
    },
    {
      "cell_type": "code",
      "source": [
        "# find description of the data again after droping null values\n",
        "dataset.describe()"
      ],
      "metadata": {
        "id": "a5D1E_L6_tUQ"
      },
      "execution_count": null,
      "outputs": []
    },
    {
      "cell_type": "code",
      "source": [
        "# Use describe() for specific columns\n",
        "dataset[['pricesold', 'Mileage', 'Year', 'NumCylinders']].describe()"
      ],
      "metadata": {
        "id": "RHUPfPhn_4l5"
      },
      "execution_count": null,
      "outputs": []
    },
    {
      "cell_type": "code",
      "source": [
        "# Exploratory Data Analysis\n",
        "# Year and price sold\n",
        "dataset.groupby(['Year'], as_index=False)['pricesold'].sum().sort_values(by='pricesold', ascending=False)"
      ],
      "metadata": {
        "id": "S5vd5LFPBCwH"
      },
      "execution_count": null,
      "outputs": []
    },
    {
      "cell_type": "code",
      "source": [
        "sales_year = dataset.groupby(['Year'], as_index = False)['pricesold'].sum().sort_values(by='pricesold', ascending = False).head(10)\n",
        "sns.barplot(x = 'Year', y = 'pricesold', data = sales_year)\n",
        "plt.show()\n",
        "# From the below graph we can see in the year 2017, 2018, 2016 and 2015\n",
        "# The pricesold is higher"
      ],
      "metadata": {
        "id": "-aW9Q_gLByDF"
      },
      "execution_count": null,
      "outputs": []
    },
    {
      "cell_type": "code",
      "source": [
        "# show columns\n",
        "dataset.columns"
      ],
      "metadata": {
        "id": "Dna913CJETLd"
      },
      "execution_count": null,
      "outputs": []
    },
    {
      "cell_type": "code",
      "source": [
        "# Exploratory Data Analysis\n",
        "# Year and year sold\n",
        "dataset.groupby(['Year'], as_index=False)['yearsold'].sum().sort_values(by='yearsold', ascending=False)"
      ],
      "metadata": {
        "id": "anORRo5aFroR"
      },
      "execution_count": null,
      "outputs": []
    },
    {
      "cell_type": "code",
      "source": [
        "# year vs year sold\n",
        "sales_year = dataset.groupby(['Year'], as_index = False)['yearsold'].sum().sort_values(by ='yearsold', ascending=False).head(10)\n",
        "sns.barplot(x = 'Year', y = 'yearsold', data = sales_year)\n",
        "plt.show()\n",
        "# From the below data we saw From the year 2004 to 2008\n",
        "# Price sold is really higher"
      ],
      "metadata": {
        "id": "mcDP4Zv9GABq"
      },
      "execution_count": null,
      "outputs": []
    },
    {
      "cell_type": "code",
      "source": [
        "# rename columns\n",
        "dataset.rename(columns= {'Make':'Car Name'}, inplace = True)"
      ],
      "metadata": {
        "id": "4ZJtTa56HFNK"
      },
      "execution_count": null,
      "outputs": []
    },
    {
      "cell_type": "code",
      "source": [
        "dataset.columns"
      ],
      "metadata": {
        "id": "qhIaAQdGOJsd"
      },
      "execution_count": null,
      "outputs": []
    },
    {
      "cell_type": "code",
      "source": [
        "# Milage VS Make\n",
        "dataset.groupby(['Car Name'], as_index = False)['Mileage'].sum().sort_values(by = 'Mileage', ascending = False)"
      ],
      "metadata": {
        "id": "wHs-wVotJpxk"
      },
      "execution_count": null,
      "outputs": []
    },
    {
      "cell_type": "code",
      "source": [
        "# Visualise on the graph\n",
        "sales_make = dataset.groupby(['Car Name'], as_index = False)['Mileage'].sum().sort_values(by = 'Mileage',ascending = False).head(10)\n",
        "sns.set(rc={'figure.figsize':(18,5)})\n",
        "sns.barplot(x = 'Car Name', y = 'Mileage', data = sales_make)\n",
        "plt.show()\n",
        "# From the below graph we can see\n",
        "# Ford and Chevrolet have high Mileage"
      ],
      "metadata": {
        "id": "szIdMPhVJwqC"
      },
      "execution_count": null,
      "outputs": []
    },
    {
      "cell_type": "code",
      "source": [
        "dataset.columns"
      ],
      "metadata": {
        "id": "rZR5LfbkLu2-"
      },
      "execution_count": null,
      "outputs": []
    },
    {
      "cell_type": "code",
      "source": [
        "# Car Name Vs Year\n",
        "dataset.groupby(['Car Name'], as_index = False)['Year'].sum().sort_values(by = 'Year', ascending = False)"
      ],
      "metadata": {
        "id": "nPbWfWXnPMtl"
      },
      "execution_count": null,
      "outputs": []
    },
    {
      "cell_type": "code",
      "source": [
        "sales_Year = dataset.groupby(['Car Name'], as_index = False)['Year'].sum().sort_values(by = 'Year', ascending = False).head(10)\n",
        "sns.barplot(x = 'Car Name', y = 'Year', data = sales_Year)\n",
        "plt.show()"
      ],
      "metadata": {
        "id": "MkDVaUGCWeAL"
      },
      "execution_count": null,
      "outputs": []
    },
    {
      "cell_type": "code",
      "source": [
        "# Car Name Vs NumCylinders\n",
        "dataset.groupby(['Car Name'], as_index = False)['NumCylinders'].sum().sort_values(by = 'NumCylinders', ascending = False)"
      ],
      "metadata": {
        "id": "AEYb6PopXEOb"
      },
      "execution_count": null,
      "outputs": []
    },
    {
      "cell_type": "code",
      "source": [
        "sales_Year = dataset.groupby(['Car Name'], as_index = False)['NumCylinders'].sum().sort_values(by = 'NumCylinders', ascending = False).head(3)\n",
        "sns.barplot(x = 'Car Name', y = 'NumCylinders', data = sales_Year)\n",
        "plt.show()"
      ],
      "metadata": {
        "id": "clQip-92ZEk0"
      },
      "execution_count": null,
      "outputs": []
    },
    {
      "cell_type": "code",
      "source": [
        "dataset.columns"
      ],
      "metadata": {
        "id": "mcfUYlVQtjTf"
      },
      "execution_count": null,
      "outputs": []
    },
    {
      "cell_type": "code",
      "source": [
        "# Yearsold VS Model\n",
        "dataset.groupby(['yearsold'], as_index = False)['Model'].sum().sort_values(by = 'Model', ascending = False).head(10)"
      ],
      "metadata": {
        "id": "ghybs1SQxD7x"
      },
      "execution_count": null,
      "outputs": []
    },
    {
      "cell_type": "code",
      "source": [
        "sales_Model = dataset.groupby(['Model'], as_index = False)['yearsold'].sum().sort_values(by = 'yearsold', ascending = False).head(10)\n",
        "sns.barplot(x = 'Model', y = 'yearsold', data = sales_Model)\n",
        "plt.show()"
      ],
      "metadata": {
        "id": "a4mA2CmXxKpj"
      },
      "execution_count": null,
      "outputs": []
    },
    {
      "cell_type": "code",
      "source": [
        "# pricesold VS Model\n",
        "dataset.groupby(['pricesold'], as_index = False)['Model'].sum().sort_values(by = 'Model', ascending = False).head(10)"
      ],
      "metadata": {
        "id": "8orWVvN8x-vC"
      },
      "execution_count": null,
      "outputs": []
    },
    {
      "cell_type": "code",
      "source": [
        "sales_Model = dataset.groupby(['Model'], as_index = False)['pricesold'].sum().sort_values(by = 'pricesold', ascending = False).head(10)\n",
        "sns.barplot(x = 'Model', y = 'pricesold', data = sales_Model)\n",
        "plt.show()"
      ],
      "metadata": {
        "id": "1lyRccjqyzaL"
      },
      "execution_count": null,
      "outputs": []
    },
    {
      "cell_type": "code",
      "source": [
        "# Engine VS Mileage\n",
        "dataset.groupby(['Engine'], as_index = False)['Mileage'].sum().sort_values(by = 'Mileage', ascending = False).head(10)"
      ],
      "metadata": {
        "id": "ARC-QP4wy8uB"
      },
      "execution_count": null,
      "outputs": []
    },
    {
      "cell_type": "code",
      "source": [
        "sales_Model = dataset.groupby(['Engine'], as_index = False)['Mileage'].sum().sort_values(by = 'Mileage', ascending = False).head(10)\n",
        "sns.barplot(x = 'Engine', y = 'Mileage', data = sales_Model)\n",
        "plt.show()\n",
        "# From the below graph we see 350 Engine has more mileage as compared to other"
      ],
      "metadata": {
        "id": "WFne6An6zzqK"
      },
      "execution_count": null,
      "outputs": []
    },
    {
      "cell_type": "code",
      "source": [
        "dataset.columns"
      ],
      "metadata": {
        "id": "8bQkmNjH0a9A"
      },
      "execution_count": null,
      "outputs": []
    },
    {
      "cell_type": "code",
      "source": [
        "# BodyType VS NumCylinders\n",
        "dataset.groupby(['BodyType'], as_index = False)['NumCylinders'].sum().sort_values(by = 'NumCylinders', ascending = False).head(10)"
      ],
      "metadata": {
        "id": "SqOJR9v_0sIT"
      },
      "execution_count": null,
      "outputs": []
    },
    {
      "cell_type": "code",
      "source": [
        "sales_BodyType = dataset.groupby(['BodyType'], as_index = False)['NumCylinders'].sum().sort_values(by = 'NumCylinders', ascending = False).head(4)\n",
        "sns.set(rc={'figure.figsize':(25,5)})\n",
        "sns.barplot(x = 'BodyType', y = 'NumCylinders', data = sales_BodyType)\n",
        "plt.show()"
      ],
      "metadata": {
        "id": "3UTk9bvw07HA"
      },
      "execution_count": null,
      "outputs": []
    },
    {
      "cell_type": "code",
      "source": [
        "# Mileage vs DriveType\n",
        "dataset.groupby(['DriveType'], as_index = False)['Mileage'].sum().sort_values(by = 'Mileage', ascending = False).head(10)"
      ],
      "metadata": {
        "id": "OlscsEMo1MBM"
      },
      "execution_count": null,
      "outputs": []
    },
    {
      "cell_type": "code",
      "source": [
        "sales_DriveType = dataset.groupby(['DriveType'], as_index = False)['Mileage'].sum().sort_values(by = 'Mileage', ascending = False).head(10)\n",
        "sns.set(rc={'figure.figsize':(15,5)})\n",
        "sns.barplot(x = 'DriveType', y = 'Mileage', data = sales_DriveType)\n",
        "plt.show()"
      ],
      "metadata": {
        "id": "a6KCmzKw1VAK"
      },
      "execution_count": null,
      "outputs": []
    },
    {
      "cell_type": "code",
      "source": [
        "# Conclusion:=>\n",
        "# This project aims to improve consumer experience by analyzing Car sales data.\n",
        "# 1. We discovered that the price sold was increased in 2015, 2016, 2017, and 2018.\n",
        "# 2. The age range from 2004 to 2008 is significantly higher.\n",
        "# 3. Ford, Chevrolet, and Dodge vehicles get good gas mileage.\n",
        "# 4.Compared to other cars, Ford has more cylinders.\n",
        "# 5. Customer preference is greater for the Mustang and F-150,\n",
        "# 6.and  the 350 and 289 engines offer good mileage.\n",
        "# 7. Drive Types with RWD, 4WD, and FWD get superior mileage"
      ],
      "metadata": {
        "id": "Lvw-fXEO3DVH"
      },
      "execution_count": null,
      "outputs": []
    },
    {
      "cell_type": "code",
      "source": [],
      "metadata": {
        "id": "JR3NZ6h5VUiE"
      },
      "execution_count": null,
      "outputs": []
    }
  ]
}